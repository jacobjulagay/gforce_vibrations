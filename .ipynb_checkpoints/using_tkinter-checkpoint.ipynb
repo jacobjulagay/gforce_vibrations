{
 "cells": [
  {
   "cell_type": "code",
   "execution_count": 6,
   "id": "unusual-linux",
   "metadata": {},
   "outputs": [],
   "source": [
    "from tkinter import *\n"
   ]
  },
  {
   "cell_type": "code",
   "execution_count": 7,
   "id": "under-bridal",
   "metadata": {},
   "outputs": [],
   "source": [
    "# Opening file explorer\n",
    "def viewFiles():\n",
    "    filename = filedialog.askopenfilename(initialdir= \"C:/Users/jacob/Documents/krowpu\", \n",
    "                                        title=\"Select a Excel File\",\n",
    "                                        filetypes = ((\"all files\",\n",
    "                                                        \"*.*\")))\n",
    "    #Change label contents \n",
    "    label_file_explorer.configure(text = \"File Opened: \" + filename)\n",
    "    \n",
    "                                                    "
   ]
  },
  {
   "cell_type": "code",
   "execution_count": 8,
   "id": "bound-jersey",
   "metadata": {},
   "outputs": [
    {
     "ename": "NameError",
     "evalue": "name 'browseFiles' is not defined",
     "output_type": "error",
     "traceback": [
      "\u001b[1;31m---------------------------------------------------------------------------\u001b[0m",
      "\u001b[1;31mNameError\u001b[0m                                 Traceback (most recent call last)",
      "\u001b[1;32m<ipython-input-8-8d6f2e07c94c>\u001b[0m in \u001b[0;36m<module>\u001b[1;34m\u001b[0m\n\u001b[0;32m     19\u001b[0m button_explore = Button(window,\n\u001b[0;32m     20\u001b[0m                         \u001b[0mtext\u001b[0m \u001b[1;33m=\u001b[0m \u001b[1;34m\"Browse Files\"\u001b[0m\u001b[1;33m,\u001b[0m\u001b[1;33m\u001b[0m\u001b[1;33m\u001b[0m\u001b[0m\n\u001b[1;32m---> 21\u001b[1;33m                         command = browseFiles)\n\u001b[0m\u001b[0;32m     22\u001b[0m \u001b[1;33m\u001b[0m\u001b[0m\n\u001b[0;32m     23\u001b[0m \u001b[1;31m# Exit button\u001b[0m\u001b[1;33m\u001b[0m\u001b[1;33m\u001b[0m\u001b[1;33m\u001b[0m\u001b[0m\n",
      "\u001b[1;31mNameError\u001b[0m: name 'browseFiles' is not defined"
     ]
    }
   ],
   "source": [
    "#Creating the root window\n",
    "window = Tk()\n",
    "\n",
    "# Set window title\n",
    "window.title('File Explorer')\n",
    "\n",
    "# Set window size\n",
    "window.geometry(\"500x500\")\n",
    "\n",
    "# Set window background color\n",
    "window.config(background=\"white\")\n",
    "\n",
    "# Create a File Explorer label\n",
    "label_file_explorer = Label(window,\n",
    "                            text = \"File Explorer using Tkinter\",\n",
    "                            width = 100, height = 4,\n",
    "                            fg = \"blue\")\n",
    "# Browse files button\n",
    "button_explore = Button(window,\n",
    "                        text = \"Browse Files\",\n",
    "                        command = viewFiles)\n",
    "\n",
    "# Exit button\n",
    "button_exit = Button(window,\n",
    "                     text = \"Exit\",\n",
    "                     command = exit)"
   ]
  },
  {
   "cell_type": "code",
   "execution_count": null,
   "id": "juvenile-flood",
   "metadata": {},
   "outputs": [],
   "source": []
  }
 ],
 "metadata": {
  "kernelspec": {
   "display_name": "Python 3",
   "language": "python",
   "name": "python3"
  },
  "language_info": {
   "codemirror_mode": {
    "name": "ipython",
    "version": 3
   },
   "file_extension": ".py",
   "mimetype": "text/x-python",
   "name": "python",
   "nbconvert_exporter": "python",
   "pygments_lexer": "ipython3",
   "version": "3.9.1"
  }
 },
 "nbformat": 4,
 "nbformat_minor": 5
}
