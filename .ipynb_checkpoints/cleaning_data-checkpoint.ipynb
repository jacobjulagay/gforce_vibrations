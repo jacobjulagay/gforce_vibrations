{
 "cells": [
  {
   "cell_type": "code",
   "execution_count": 112,
   "id": "celtic-meter",
   "metadata": {},
   "outputs": [],
   "source": [
    "import pandas as pd\n",
    "import matplotlib.pyplot as plt\n",
    "import numpy as np"
   ]
  },
  {
   "cell_type": "code",
   "execution_count": 113,
   "id": "aging-italy",
   "metadata": {},
   "outputs": [
    {
     "name": "stdout",
     "output_type": "stream",
     "text": [
      "#Recorded     0\n",
      "Date-Time     0\n",
      "CRC           0\n",
      "objectId      0\n",
      "jobID         0\n",
      "runNum        0\n",
      "dataLen       0\n",
      "XYVibe       58\n",
      "XYPeak       58\n",
      "XYShock       0\n",
      "ZVib         60\n",
      "ZPeak        60\n",
      "ZShock        0\n",
      "ZVibeFlg      0\n",
      "ZShkFlg       0\n",
      "XYVibeFlg     0\n",
      "XYShkFlg      0\n",
      "PackedVib     0\n",
      "dtype: int64\n",
      "<class 'pandas.core.frame.DataFrame'>\n",
      "RangeIndex: 4141 entries, 0 to 4140\n",
      "Data columns (total 18 columns):\n",
      " #   Column     Non-Null Count  Dtype  \n",
      "---  ------     --------------  -----  \n",
      " 0   #Recorded  4141 non-null   int64  \n",
      " 1   Date-Time  4141 non-null   object \n",
      " 2   CRC        4141 non-null   int64  \n",
      " 3   objectId   4141 non-null   int64  \n",
      " 4   jobID      4141 non-null   int64  \n",
      " 5   runNum     4141 non-null   int64  \n",
      " 6   dataLen    4141 non-null   int64  \n",
      " 7   XYVibe     4083 non-null   float64\n",
      " 8   XYPeak     4083 non-null   float64\n",
      " 9   XYShock    4141 non-null   int64  \n",
      " 10  ZVib       4081 non-null   float64\n",
      " 11  ZPeak      4081 non-null   float64\n",
      " 12  ZShock     4141 non-null   int64  \n",
      " 13  ZVibeFlg   4141 non-null   int64  \n",
      " 14  ZShkFlg    4141 non-null   int64  \n",
      " 15  XYVibeFlg  4141 non-null   int64  \n",
      " 16  XYShkFlg   4141 non-null   int64  \n",
      " 17  PackedVib  4141 non-null   int64  \n",
      "dtypes: float64(4), int64(13), object(1)\n",
      "memory usage: 582.5+ KB\n"
     ]
    }
   ],
   "source": [
    "# Read in csv file. \n",
    "# using sep because of whitespace in column names, Skipping first 6 rows\n",
    "df = pd.read_csv(\"2021_01_22_202641_PowerMaster_ShockVibe.csv\",sep=r'\\s*,\\s*', engine='python',skiprows = 6)\n",
    "\n",
    "#Removing last column because it has NA values\n",
    "df.drop(df.columns[[-1,]], axis=1, inplace=True)\n",
    "print(df.isnull().sum())\n",
    "df.info()"
   ]
  },
  {
   "cell_type": "code",
   "execution_count": 114,
   "id": "surgical-minute",
   "metadata": {},
   "outputs": [
    {
     "name": "stdout",
     "output_type": "stream",
     "text": [
      "      #Recorded            Date-Time    CRC  objectId  jobID  runNum  dataLen  \\\n",
      "0             0  1970/01/01 00:04:48  39319         3      0       0       25   \n",
      "1             1  1970/01/01 00:04:48   2474         3      0       0       25   \n",
      "2             2  1970/01/01 00:04:48  22755         3      0       0       25   \n",
      "3             3  1970/01/01 00:04:48  58766         3      0       0       25   \n",
      "4             4  1970/01/01 00:04:48  12824         3      0       0       25   \n",
      "...         ...                  ...    ...       ...    ...     ...      ...   \n",
      "4136       4136  2021/01/22 20:21:36  26031         3      0       0       25   \n",
      "4137       4137  2021/01/22 20:22:06  15005         3      0       0       25   \n",
      "4138       4138  2021/01/22 20:22:36   4507         3      0       0       25   \n",
      "4139       4139  2021/01/22 20:23:06  10277         3      0       0       25   \n",
      "4140       4140  2021/01/22 20:26:18  56322         3      0       0       25   \n",
      "\n",
      "        XYVibe    XYPeak  XYShock       ZVib      ZPeak  ZShock  ZVibeFlg  \\\n",
      "0     0.000000  0.000000        0   0.000000   0.000000       0         0   \n",
      "1     1.000000  2.000000        3   4.000000   5.000000       6         7   \n",
      "2     2.000000  4.000000        6   8.000000  10.000000      12        14   \n",
      "3     3.000000  6.000000        9  12.000000  15.000000      18        21   \n",
      "4     4.000000  8.000000       12  16.000000  20.000000      24        28   \n",
      "...        ...       ...      ...        ...        ...     ...       ...   \n",
      "4136  0.614147  2.615385        0   0.578815   1.769231       0         0   \n",
      "4137  0.611837  2.576923        0   0.585641   2.576923       0         0   \n",
      "4138  0.620897  1.576923        0   0.581294   1.961539       0         0   \n",
      "4139  0.618992  3.000000        0   0.599821   3.038462       0         0   \n",
      "4140  1.999807  3.500000        0   1.904512   2.500000       0         0   \n",
      "\n",
      "      ZShkFlg  XYVibeFlg  XYShkFlg  PackedVib  \n",
      "0           0          0         0          0  \n",
      "1           8          9        10         11  \n",
      "2          16         18        20         22  \n",
      "3          24         27        30         33  \n",
      "4          32         36        40         44  \n",
      "...       ...        ...       ...        ...  \n",
      "4136        0          0         0          0  \n",
      "4137        0          0         0          0  \n",
      "4138        0          0         0          0  \n",
      "4139        0          0         0          0  \n",
      "4140        0          0         0          0  \n",
      "\n",
      "[4081 rows x 18 columns]\n",
      "<class 'pandas.core.frame.DataFrame'>\n",
      "Int64Index: 4081 entries, 0 to 4140\n",
      "Data columns (total 18 columns):\n",
      " #   Column     Non-Null Count  Dtype  \n",
      "---  ------     --------------  -----  \n",
      " 0   #Recorded  4081 non-null   int64  \n",
      " 1   Date-Time  4081 non-null   object \n",
      " 2   CRC        4081 non-null   int64  \n",
      " 3   objectId   4081 non-null   int64  \n",
      " 4   jobID      4081 non-null   int64  \n",
      " 5   runNum     4081 non-null   int64  \n",
      " 6   dataLen    4081 non-null   int64  \n",
      " 7   XYVibe     4081 non-null   float64\n",
      " 8   XYPeak     4081 non-null   float64\n",
      " 9   XYShock    4081 non-null   int64  \n",
      " 10  ZVib       4081 non-null   float64\n",
      " 11  ZPeak      4081 non-null   float64\n",
      " 12  ZShock     4081 non-null   int64  \n",
      " 13  ZVibeFlg   4081 non-null   int64  \n",
      " 14  ZShkFlg    4081 non-null   int64  \n",
      " 15  XYVibeFlg  4081 non-null   int64  \n",
      " 16  XYShkFlg   4081 non-null   int64  \n",
      " 17  PackedVib  4081 non-null   int64  \n",
      "dtypes: float64(4), int64(13), object(1)\n",
      "memory usage: 605.8+ KB\n"
     ]
    }
   ],
   "source": [
    "# To Do: remove NaN's\n",
    "df.dropna(inplace=True)\n",
    "\n",
    "print(df)\n",
    "df.info()"
   ]
  },
  {
   "cell_type": "code",
   "execution_count": 141,
   "id": "likely-anniversary",
   "metadata": {},
   "outputs": [
    {
     "ename": "KeyError",
     "evalue": "'Date-Time'",
     "output_type": "error",
     "traceback": [
      "\u001b[1;31m---------------------------------------------------------------------------\u001b[0m",
      "\u001b[1;31mKeyError\u001b[0m                                  Traceback (most recent call last)",
      "\u001b[1;32mc:\\users\\jacob\\appdata\\local\\programs\\python\\python39\\lib\\site-packages\\pandas\\core\\indexes\\base.py\u001b[0m in \u001b[0;36mget_loc\u001b[1;34m(self, key, method, tolerance)\u001b[0m\n\u001b[0;32m   3079\u001b[0m             \u001b[1;32mtry\u001b[0m\u001b[1;33m:\u001b[0m\u001b[1;33m\u001b[0m\u001b[1;33m\u001b[0m\u001b[0m\n\u001b[1;32m-> 3080\u001b[1;33m                 \u001b[1;32mreturn\u001b[0m \u001b[0mself\u001b[0m\u001b[1;33m.\u001b[0m\u001b[0m_engine\u001b[0m\u001b[1;33m.\u001b[0m\u001b[0mget_loc\u001b[0m\u001b[1;33m(\u001b[0m\u001b[0mcasted_key\u001b[0m\u001b[1;33m)\u001b[0m\u001b[1;33m\u001b[0m\u001b[1;33m\u001b[0m\u001b[0m\n\u001b[0m\u001b[0;32m   3081\u001b[0m             \u001b[1;32mexcept\u001b[0m \u001b[0mKeyError\u001b[0m \u001b[1;32mas\u001b[0m \u001b[0merr\u001b[0m\u001b[1;33m:\u001b[0m\u001b[1;33m\u001b[0m\u001b[1;33m\u001b[0m\u001b[0m\n",
      "\u001b[1;32mpandas\\_libs\\index.pyx\u001b[0m in \u001b[0;36mpandas._libs.index.IndexEngine.get_loc\u001b[1;34m()\u001b[0m\n",
      "\u001b[1;32mpandas\\_libs\\index.pyx\u001b[0m in \u001b[0;36mpandas._libs.index.IndexEngine.get_loc\u001b[1;34m()\u001b[0m\n",
      "\u001b[1;32mpandas\\_libs\\hashtable_class_helper.pxi\u001b[0m in \u001b[0;36mpandas._libs.hashtable.PyObjectHashTable.get_item\u001b[1;34m()\u001b[0m\n",
      "\u001b[1;32mpandas\\_libs\\hashtable_class_helper.pxi\u001b[0m in \u001b[0;36mpandas._libs.hashtable.PyObjectHashTable.get_item\u001b[1;34m()\u001b[0m\n",
      "\u001b[1;31mKeyError\u001b[0m: 'Date-Time'",
      "\nThe above exception was the direct cause of the following exception:\n",
      "\u001b[1;31mKeyError\u001b[0m                                  Traceback (most recent call last)",
      "\u001b[1;32m<ipython-input-141-e64ff7818878>\u001b[0m in \u001b[0;36m<module>\u001b[1;34m\u001b[0m\n\u001b[0;32m      1\u001b[0m \u001b[1;31m#Checking if all NaN's are removed.\u001b[0m\u001b[1;33m\u001b[0m\u001b[1;33m\u001b[0m\u001b[1;33m\u001b[0m\u001b[0m\n\u001b[0;32m      2\u001b[0m \u001b[0mdf\u001b[0m\u001b[1;33m.\u001b[0m\u001b[0misnull\u001b[0m\u001b[1;33m(\u001b[0m\u001b[1;33m)\u001b[0m\u001b[1;33m.\u001b[0m\u001b[0msum\u001b[0m\u001b[1;33m(\u001b[0m\u001b[1;33m)\u001b[0m\u001b[1;33m\u001b[0m\u001b[1;33m\u001b[0m\u001b[0m\n\u001b[1;32m----> 3\u001b[1;33m \u001b[0mdf\u001b[0m\u001b[1;33m[\u001b[0m\u001b[1;34m'Date-Time'\u001b[0m\u001b[1;33m]\u001b[0m\u001b[1;33m\u001b[0m\u001b[1;33m\u001b[0m\u001b[0m\n\u001b[0m",
      "\u001b[1;32mc:\\users\\jacob\\appdata\\local\\programs\\python\\python39\\lib\\site-packages\\pandas\\core\\frame.py\u001b[0m in \u001b[0;36m__getitem__\u001b[1;34m(self, key)\u001b[0m\n\u001b[0;32m   3022\u001b[0m             \u001b[1;32mif\u001b[0m \u001b[0mself\u001b[0m\u001b[1;33m.\u001b[0m\u001b[0mcolumns\u001b[0m\u001b[1;33m.\u001b[0m\u001b[0mnlevels\u001b[0m \u001b[1;33m>\u001b[0m \u001b[1;36m1\u001b[0m\u001b[1;33m:\u001b[0m\u001b[1;33m\u001b[0m\u001b[1;33m\u001b[0m\u001b[0m\n\u001b[0;32m   3023\u001b[0m                 \u001b[1;32mreturn\u001b[0m \u001b[0mself\u001b[0m\u001b[1;33m.\u001b[0m\u001b[0m_getitem_multilevel\u001b[0m\u001b[1;33m(\u001b[0m\u001b[0mkey\u001b[0m\u001b[1;33m)\u001b[0m\u001b[1;33m\u001b[0m\u001b[1;33m\u001b[0m\u001b[0m\n\u001b[1;32m-> 3024\u001b[1;33m             \u001b[0mindexer\u001b[0m \u001b[1;33m=\u001b[0m \u001b[0mself\u001b[0m\u001b[1;33m.\u001b[0m\u001b[0mcolumns\u001b[0m\u001b[1;33m.\u001b[0m\u001b[0mget_loc\u001b[0m\u001b[1;33m(\u001b[0m\u001b[0mkey\u001b[0m\u001b[1;33m)\u001b[0m\u001b[1;33m\u001b[0m\u001b[1;33m\u001b[0m\u001b[0m\n\u001b[0m\u001b[0;32m   3025\u001b[0m             \u001b[1;32mif\u001b[0m \u001b[0mis_integer\u001b[0m\u001b[1;33m(\u001b[0m\u001b[0mindexer\u001b[0m\u001b[1;33m)\u001b[0m\u001b[1;33m:\u001b[0m\u001b[1;33m\u001b[0m\u001b[1;33m\u001b[0m\u001b[0m\n\u001b[0;32m   3026\u001b[0m                 \u001b[0mindexer\u001b[0m \u001b[1;33m=\u001b[0m \u001b[1;33m[\u001b[0m\u001b[0mindexer\u001b[0m\u001b[1;33m]\u001b[0m\u001b[1;33m\u001b[0m\u001b[1;33m\u001b[0m\u001b[0m\n",
      "\u001b[1;32mc:\\users\\jacob\\appdata\\local\\programs\\python\\python39\\lib\\site-packages\\pandas\\core\\indexes\\base.py\u001b[0m in \u001b[0;36mget_loc\u001b[1;34m(self, key, method, tolerance)\u001b[0m\n\u001b[0;32m   3080\u001b[0m                 \u001b[1;32mreturn\u001b[0m \u001b[0mself\u001b[0m\u001b[1;33m.\u001b[0m\u001b[0m_engine\u001b[0m\u001b[1;33m.\u001b[0m\u001b[0mget_loc\u001b[0m\u001b[1;33m(\u001b[0m\u001b[0mcasted_key\u001b[0m\u001b[1;33m)\u001b[0m\u001b[1;33m\u001b[0m\u001b[1;33m\u001b[0m\u001b[0m\n\u001b[0;32m   3081\u001b[0m             \u001b[1;32mexcept\u001b[0m \u001b[0mKeyError\u001b[0m \u001b[1;32mas\u001b[0m \u001b[0merr\u001b[0m\u001b[1;33m:\u001b[0m\u001b[1;33m\u001b[0m\u001b[1;33m\u001b[0m\u001b[0m\n\u001b[1;32m-> 3082\u001b[1;33m                 \u001b[1;32mraise\u001b[0m \u001b[0mKeyError\u001b[0m\u001b[1;33m(\u001b[0m\u001b[0mkey\u001b[0m\u001b[1;33m)\u001b[0m \u001b[1;32mfrom\u001b[0m \u001b[0merr\u001b[0m\u001b[1;33m\u001b[0m\u001b[1;33m\u001b[0m\u001b[0m\n\u001b[0m\u001b[0;32m   3083\u001b[0m \u001b[1;33m\u001b[0m\u001b[0m\n\u001b[0;32m   3084\u001b[0m         \u001b[1;32mif\u001b[0m \u001b[0mtolerance\u001b[0m \u001b[1;32mis\u001b[0m \u001b[1;32mnot\u001b[0m \u001b[1;32mNone\u001b[0m\u001b[1;33m:\u001b[0m\u001b[1;33m\u001b[0m\u001b[1;33m\u001b[0m\u001b[0m\n",
      "\u001b[1;31mKeyError\u001b[0m: 'Date-Time'"
     ]
    }
   ],
   "source": [
    "#Checking if all NaN's are removed. \n",
    "df.isnull().sum()\n",
    "df['Date-Time']"
   ]
  },
  {
   "cell_type": "code",
   "execution_count": 142,
   "id": "critical-shoulder",
   "metadata": {},
   "outputs": [
    {
     "ename": "KeyError",
     "evalue": "'Date-Time'",
     "output_type": "error",
     "traceback": [
      "\u001b[1;31m---------------------------------------------------------------------------\u001b[0m",
      "\u001b[1;31mKeyError\u001b[0m                                  Traceback (most recent call last)",
      "\u001b[1;32mc:\\users\\jacob\\appdata\\local\\programs\\python\\python39\\lib\\site-packages\\pandas\\core\\indexes\\base.py\u001b[0m in \u001b[0;36mget_loc\u001b[1;34m(self, key, method, tolerance)\u001b[0m\n\u001b[0;32m   3079\u001b[0m             \u001b[1;32mtry\u001b[0m\u001b[1;33m:\u001b[0m\u001b[1;33m\u001b[0m\u001b[1;33m\u001b[0m\u001b[0m\n\u001b[1;32m-> 3080\u001b[1;33m                 \u001b[1;32mreturn\u001b[0m \u001b[0mself\u001b[0m\u001b[1;33m.\u001b[0m\u001b[0m_engine\u001b[0m\u001b[1;33m.\u001b[0m\u001b[0mget_loc\u001b[0m\u001b[1;33m(\u001b[0m\u001b[0mcasted_key\u001b[0m\u001b[1;33m)\u001b[0m\u001b[1;33m\u001b[0m\u001b[1;33m\u001b[0m\u001b[0m\n\u001b[0m\u001b[0;32m   3081\u001b[0m             \u001b[1;32mexcept\u001b[0m \u001b[0mKeyError\u001b[0m \u001b[1;32mas\u001b[0m \u001b[0merr\u001b[0m\u001b[1;33m:\u001b[0m\u001b[1;33m\u001b[0m\u001b[1;33m\u001b[0m\u001b[0m\n",
      "\u001b[1;32mpandas\\_libs\\index.pyx\u001b[0m in \u001b[0;36mpandas._libs.index.IndexEngine.get_loc\u001b[1;34m()\u001b[0m\n",
      "\u001b[1;32mpandas\\_libs\\index.pyx\u001b[0m in \u001b[0;36mpandas._libs.index.IndexEngine.get_loc\u001b[1;34m()\u001b[0m\n",
      "\u001b[1;32mpandas\\_libs\\hashtable_class_helper.pxi\u001b[0m in \u001b[0;36mpandas._libs.hashtable.PyObjectHashTable.get_item\u001b[1;34m()\u001b[0m\n",
      "\u001b[1;32mpandas\\_libs\\hashtable_class_helper.pxi\u001b[0m in \u001b[0;36mpandas._libs.hashtable.PyObjectHashTable.get_item\u001b[1;34m()\u001b[0m\n",
      "\u001b[1;31mKeyError\u001b[0m: 'Date-Time'",
      "\nThe above exception was the direct cause of the following exception:\n",
      "\u001b[1;31mKeyError\u001b[0m                                  Traceback (most recent call last)",
      "\u001b[1;32m<ipython-input-142-2b981dc0530a>\u001b[0m in \u001b[0;36m<module>\u001b[1;34m\u001b[0m\n\u001b[0;32m      1\u001b[0m \u001b[1;31m# Converting 'Date-Time' Col to a datetime object.\u001b[0m\u001b[1;33m\u001b[0m\u001b[1;33m\u001b[0m\u001b[1;33m\u001b[0m\u001b[0m\n\u001b[1;32m----> 2\u001b[1;33m \u001b[0mdf\u001b[0m\u001b[1;33m[\u001b[0m\u001b[1;34m'Date-Time'\u001b[0m\u001b[1;33m]\u001b[0m \u001b[1;33m=\u001b[0m \u001b[0mpd\u001b[0m\u001b[1;33m.\u001b[0m\u001b[0mto_datetime\u001b[0m\u001b[1;33m(\u001b[0m\u001b[0mdf\u001b[0m\u001b[1;33m[\u001b[0m\u001b[1;34m'Date-Time'\u001b[0m\u001b[1;33m]\u001b[0m\u001b[1;33m,\u001b[0m \u001b[0mformat\u001b[0m \u001b[1;33m=\u001b[0m \u001b[1;34m\"%Y/%m/%d %H:%M:%S\"\u001b[0m\u001b[1;33m)\u001b[0m\u001b[1;33m\u001b[0m\u001b[1;33m\u001b[0m\u001b[0m\n\u001b[0m",
      "\u001b[1;32mc:\\users\\jacob\\appdata\\local\\programs\\python\\python39\\lib\\site-packages\\pandas\\core\\frame.py\u001b[0m in \u001b[0;36m__getitem__\u001b[1;34m(self, key)\u001b[0m\n\u001b[0;32m   3022\u001b[0m             \u001b[1;32mif\u001b[0m \u001b[0mself\u001b[0m\u001b[1;33m.\u001b[0m\u001b[0mcolumns\u001b[0m\u001b[1;33m.\u001b[0m\u001b[0mnlevels\u001b[0m \u001b[1;33m>\u001b[0m \u001b[1;36m1\u001b[0m\u001b[1;33m:\u001b[0m\u001b[1;33m\u001b[0m\u001b[1;33m\u001b[0m\u001b[0m\n\u001b[0;32m   3023\u001b[0m                 \u001b[1;32mreturn\u001b[0m \u001b[0mself\u001b[0m\u001b[1;33m.\u001b[0m\u001b[0m_getitem_multilevel\u001b[0m\u001b[1;33m(\u001b[0m\u001b[0mkey\u001b[0m\u001b[1;33m)\u001b[0m\u001b[1;33m\u001b[0m\u001b[1;33m\u001b[0m\u001b[0m\n\u001b[1;32m-> 3024\u001b[1;33m             \u001b[0mindexer\u001b[0m \u001b[1;33m=\u001b[0m \u001b[0mself\u001b[0m\u001b[1;33m.\u001b[0m\u001b[0mcolumns\u001b[0m\u001b[1;33m.\u001b[0m\u001b[0mget_loc\u001b[0m\u001b[1;33m(\u001b[0m\u001b[0mkey\u001b[0m\u001b[1;33m)\u001b[0m\u001b[1;33m\u001b[0m\u001b[1;33m\u001b[0m\u001b[0m\n\u001b[0m\u001b[0;32m   3025\u001b[0m             \u001b[1;32mif\u001b[0m \u001b[0mis_integer\u001b[0m\u001b[1;33m(\u001b[0m\u001b[0mindexer\u001b[0m\u001b[1;33m)\u001b[0m\u001b[1;33m:\u001b[0m\u001b[1;33m\u001b[0m\u001b[1;33m\u001b[0m\u001b[0m\n\u001b[0;32m   3026\u001b[0m                 \u001b[0mindexer\u001b[0m \u001b[1;33m=\u001b[0m \u001b[1;33m[\u001b[0m\u001b[0mindexer\u001b[0m\u001b[1;33m]\u001b[0m\u001b[1;33m\u001b[0m\u001b[1;33m\u001b[0m\u001b[0m\n",
      "\u001b[1;32mc:\\users\\jacob\\appdata\\local\\programs\\python\\python39\\lib\\site-packages\\pandas\\core\\indexes\\base.py\u001b[0m in \u001b[0;36mget_loc\u001b[1;34m(self, key, method, tolerance)\u001b[0m\n\u001b[0;32m   3080\u001b[0m                 \u001b[1;32mreturn\u001b[0m \u001b[0mself\u001b[0m\u001b[1;33m.\u001b[0m\u001b[0m_engine\u001b[0m\u001b[1;33m.\u001b[0m\u001b[0mget_loc\u001b[0m\u001b[1;33m(\u001b[0m\u001b[0mcasted_key\u001b[0m\u001b[1;33m)\u001b[0m\u001b[1;33m\u001b[0m\u001b[1;33m\u001b[0m\u001b[0m\n\u001b[0;32m   3081\u001b[0m             \u001b[1;32mexcept\u001b[0m \u001b[0mKeyError\u001b[0m \u001b[1;32mas\u001b[0m \u001b[0merr\u001b[0m\u001b[1;33m:\u001b[0m\u001b[1;33m\u001b[0m\u001b[1;33m\u001b[0m\u001b[0m\n\u001b[1;32m-> 3082\u001b[1;33m                 \u001b[1;32mraise\u001b[0m \u001b[0mKeyError\u001b[0m\u001b[1;33m(\u001b[0m\u001b[0mkey\u001b[0m\u001b[1;33m)\u001b[0m \u001b[1;32mfrom\u001b[0m \u001b[0merr\u001b[0m\u001b[1;33m\u001b[0m\u001b[1;33m\u001b[0m\u001b[0m\n\u001b[0m\u001b[0;32m   3083\u001b[0m \u001b[1;33m\u001b[0m\u001b[0m\n\u001b[0;32m   3084\u001b[0m         \u001b[1;32mif\u001b[0m \u001b[0mtolerance\u001b[0m \u001b[1;32mis\u001b[0m \u001b[1;32mnot\u001b[0m \u001b[1;32mNone\u001b[0m\u001b[1;33m:\u001b[0m\u001b[1;33m\u001b[0m\u001b[1;33m\u001b[0m\u001b[0m\n",
      "\u001b[1;31mKeyError\u001b[0m: 'Date-Time'"
     ]
    }
   ],
   "source": [
    "# Converting 'Date-Time' Col to a datetime object. \n",
    "df['Date-Time'] = pd.to_datetime(df['Date-Time'], format = \"%Y/%m/%d %H:%M:%S\")\n"
   ]
  },
  {
   "cell_type": "code",
   "execution_count": 117,
   "id": "adult-initial",
   "metadata": {},
   "outputs": [],
   "source": [
    "# Set date-time as index - this is to make it easier to .loc or .iloc\n",
    "df = df.set_index(['Date-Time'])\n"
   ]
  },
  {
   "cell_type": "code",
   "execution_count": 182,
   "id": "lucky-requirement",
   "metadata": {},
   "outputs": [
    {
     "name": "stdout",
     "output_type": "stream",
     "text": [
      "[0.759425  0.7622168 0.7644439 0.7653942 0.7659327 0.768145  0.7677712\n",
      " 0.7768841 0.7602792 0.7644539 0.7645376 0.7697207 0.7696335 0.7686455\n",
      " 0.7686489 0.7720456 0.7706475 0.7718074 0.7726207 0.7710087 0.7739\n",
      " 0.7692642 0.7679886 0.7611867 0.7758099 0.7628484 0.7727849 0.7668633\n",
      " 0.7713571 0.771097  0.7790403 0.7886733 0.7844189 0.782106  0.7805571\n",
      " 0.7799462 0.7785947 0.778941  0.778775  0.7783307 0.7786743 0.7758667\n",
      " 0.7757847 0.7750974 0.7756765 0.8060218 0.814701  0.8140184 0.8132341\n",
      " 0.8136077 0.8183096 0.8201852 0.8102722 0.8089191 0.8095003 0.8101637\n",
      " 0.812016  0.8116855 0.8093514 0.8104486 0.811056  0.8120602 0.811803\n",
      " 0.8094027 0.8103947 0.8093669 0.8102593 0.8103716 0.8108233 0.8095837\n",
      " 0.8110048 0.8109645 0.8103433 0.8098849 0.8091577 0.8093798 0.810405\n",
      " 0.8093566 0.8095797 0.8102407 0.8098167 0.8098233 0.8093091 0.8101285\n",
      " 0.8101993 0.8085104 0.8091551 0.8095387 0.8105512 0.8102388 0.8082363\n",
      " 0.8114005 0.8081334 0.8129456 0.8146594 0.8120525 0.8081975 0.8073202\n",
      " 0.8177801 0.8105153 0.8087776 0.8066666 0.8055152 0.805842  0.8087437\n",
      " 0.8121397 0.8130245 0.8051127 0.8078771 0.8085231 0.8105198 0.8127981\n",
      " 0.8121603 0.8114646 0.8111517 0.8121801 0.8107642 0.8109081 0.8109285\n",
      " 0.8114849 0.8105069 0.8112236 0.8121596 0.8105517 0.8103793 0.813252\n",
      " 0.8144033 0.8119775 0.8109616 0.8112261 0.8118303 0.8130585 0.8136752\n",
      " 0.8115059 0.8117416 0.8115983 0.8122875 0.8114803 0.8110415 0.8120548\n",
      " 0.813548  0.81234   0.8127853 0.8129482 0.8158775 0.8116548 0.811857\n",
      " 0.8117446 0.8119929 0.8110645 0.8109658]\n"
     ]
    }
   ],
   "source": [
    "# Ex. of gettinng between date and time\n",
    "#df.loc['2021/01/21 09:45:43' : '2021/01/21 09:50:12']\n",
    "start_time = '9:44:00'\n",
    "end_time = '11:00:00'\n",
    "start_date = '2021/01/21'\n",
    "end_date = '2021/01/21'\n",
    "\n",
    "df.between_time(start_time,end_time)\n",
    "\n",
    "# Have to use sort_index() b/c if not, then it raises an error about future deprecation\n",
    "time_chosen_df = df.sort_index().loc[start_date:end_date].between_time(start_time,end_time)\n",
    "y = time_chosen_df['XYVibe'].values\n",
    "print(y)"
   ]
  },
  {
   "cell_type": "code",
   "execution_count": 183,
   "id": "joint-employee",
   "metadata": {},
   "outputs": [
    {
     "data": {
      "image/png": "[encoded data removed]",
      "text/plain": [
       "<Figure size 432x288 with 1 Axes>"
      ]
     },
     "metadata": {
      "needs_background": "light"
     },
     "output_type": "display_data"
    }
   ],
   "source": [
    "# matplotlib graphing\n",
    "%matplotlib inline\n",
    "\n",
    "# 150 is maximum amount of minutes needed within the time period.\n",
    "\n",
    "x_ticks = np.arange(0,150,20)\n",
    "plt.xticks(x_ticks)\n",
    "plt.plot(y,'bo',linestyle='dashed')\n",
    "plt.show()"
   ]
  },
  {
   "cell_type": "code",
   "execution_count": null,
   "id": "dated-democrat",
   "metadata": {},
   "outputs": [],
   "source": [
    "# To do: Convert string input from user to date time\n"
   ]
  }
 ],
 "metadata": {
  "kernelspec": {
   "display_name": "Python 3",
   "language": "python",
   "name": "python3"
  },
  "language_info": {
   "codemirror_mode": {
    "name": "ipython",
    "version": 3
   },
   "file_extension": ".py",
   "mimetype": "text/x-python",
   "name": "python",
   "nbconvert_exporter": "python",
   "pygments_lexer": "ipython3",
   "version": "3.9.1"
  }
 },
 "nbformat": 4,
 "nbformat_minor": 5
}
