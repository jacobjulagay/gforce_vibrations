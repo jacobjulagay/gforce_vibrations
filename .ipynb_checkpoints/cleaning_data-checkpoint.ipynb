{
 "cells": [
  {
   "cell_type": "code",
   "execution_count": 41,
   "id": "fundamental-soldier",
   "metadata": {},
   "outputs": [],
   "source": [
    "import pandas as pd"
   ]
  },
  {
   "cell_type": "code",
   "execution_count": 52,
   "id": "tested-multiple",
   "metadata": {},
   "outputs": [
    {
     "name": "stdout",
     "output_type": "stream",
     "text": [
      "      #Recorded               Date-Time       CRC    objectId     jobID   \\\n",
      "0              0    1970/01/01 00:04:48      39319           3         0   \n",
      "1              1    1970/01/01 00:04:48       2474           3         0   \n",
      "2              2    1970/01/01 00:04:48      22755           3         0   \n",
      "3              3    1970/01/01 00:04:48      58766           3         0   \n",
      "4              4    1970/01/01 00:04:48      12824           3         0   \n",
      "...          ...                     ...       ...         ...       ...   \n",
      "4136        4136    2021/01/22 20:21:36      26031           3         0   \n",
      "4137        4137    2021/01/22 20:22:06      15005           3         0   \n",
      "4138        4138    2021/01/22 20:22:36       4507           3         0   \n",
      "4139        4139    2021/01/22 20:23:06      10277           3         0   \n",
      "4140        4140    2021/01/22 20:26:18      56322           3         0   \n",
      "\n",
      "       runNum    dataLen        XYVibe        XYPeak    XYShock   \\\n",
      "0            0         25            0             0           0   \n",
      "1            0         25            1             2           3   \n",
      "2            0         25            2             4           6   \n",
      "3            0         25            3             6           9   \n",
      "4            0         25            4             8          12   \n",
      "...        ...        ...           ...           ...        ...   \n",
      "4136         0         25    0.6141475      2.615385           0   \n",
      "4137         0         25    0.6118369      2.576923           0   \n",
      "4138         0         25    0.6208968      1.576923           0   \n",
      "4139         0         25    0.6189921             3           0   \n",
      "4140         0         25     1.999807           3.5           0   \n",
      "\n",
      "             ZVib         ZPeak    ZShock    ZVibeFlg    ZShkFlg   \\\n",
      "0               0             0          0           0          0   \n",
      "1               4             5          6           7          8   \n",
      "2               8            10         12          14         16   \n",
      "3              12            15         18          21         24   \n",
      "4              16            20         24          28         32   \n",
      "...            ...           ...       ...         ...        ...   \n",
      "4136    0.5788147      1.769231          0           0          0   \n",
      "4137    0.5856405      2.576923          0           0          0   \n",
      "4138    0.5812943      1.961539          0           0          0   \n",
      "4139    0.5998214      3.038462          0           0          0   \n",
      "4140     1.904512           2.5          0           0          0   \n",
      "\n",
      "       XYVibeFlg    XYShkFlg    PackedVib      \n",
      "0               0           0            0     \n",
      "1               9          10           11     \n",
      "2              18          20           22     \n",
      "3              27          30           33     \n",
      "4              36          40           44     \n",
      "...           ...         ...          ... ..  \n",
      "4136            0           0            0     \n",
      "4137            0           0            0     \n",
      "4138            0           0            0     \n",
      "4139            0           0            0     \n",
      "4140            0           0            0     \n",
      "\n",
      "[4141 rows x 19 columns]\n"
     ]
    }
   ],
   "source": [
    "# Read in csv file. \n",
    "# Skipping rows because \n",
    "df = pd.read_csv(\"C:/Users/jacob/Documents/krowpu/2021_01_22_202641_PowerMaster_ShockVibe.csv\", skiprows = 6)\n",
    "print(df)"
   ]
  },
  {
   "cell_type": "code",
   "execution_count": 53,
   "id": "optional-composition",
   "metadata": {},
   "outputs": [
    {
     "name": "stdout",
     "output_type": "stream",
     "text": [
      "      #Recorded               Date-Time       CRC    objectId     jobID   \\\n",
      "0              0    1970/01/01 00:04:48      39319           3         0   \n",
      "1              1    1970/01/01 00:04:48       2474           3         0   \n",
      "2              2    1970/01/01 00:04:48      22755           3         0   \n",
      "3              3    1970/01/01 00:04:48      58766           3         0   \n",
      "4              4    1970/01/01 00:04:48      12824           3         0   \n",
      "...          ...                     ...       ...         ...       ...   \n",
      "4136        4136    2021/01/22 20:21:36      26031           3         0   \n",
      "4137        4137    2021/01/22 20:22:06      15005           3         0   \n",
      "4138        4138    2021/01/22 20:22:36       4507           3         0   \n",
      "4139        4139    2021/01/22 20:23:06      10277           3         0   \n",
      "4140        4140    2021/01/22 20:26:18      56322           3         0   \n",
      "\n",
      "       runNum    dataLen        XYVibe        XYPeak    XYShock   \\\n",
      "0            0         25            0             0           0   \n",
      "1            0         25            1             2           3   \n",
      "2            0         25            2             4           6   \n",
      "3            0         25            3             6           9   \n",
      "4            0         25            4             8          12   \n",
      "...        ...        ...           ...           ...        ...   \n",
      "4136         0         25    0.6141475      2.615385           0   \n",
      "4137         0         25    0.6118369      2.576923           0   \n",
      "4138         0         25    0.6208968      1.576923           0   \n",
      "4139         0         25    0.6189921             3           0   \n",
      "4140         0         25     1.999807           3.5           0   \n",
      "\n",
      "             ZVib         ZPeak    ZShock    ZVibeFlg    ZShkFlg   \\\n",
      "0               0             0          0           0          0   \n",
      "1               4             5          6           7          8   \n",
      "2               8            10         12          14         16   \n",
      "3              12            15         18          21         24   \n",
      "4              16            20         24          28         32   \n",
      "...            ...           ...       ...         ...        ...   \n",
      "4136    0.5788147      1.769231          0           0          0   \n",
      "4137    0.5856405      2.576923          0           0          0   \n",
      "4138    0.5812943      1.961539          0           0          0   \n",
      "4139    0.5998214      3.038462          0           0          0   \n",
      "4140     1.904512           2.5          0           0          0   \n",
      "\n",
      "       XYVibeFlg    XYShkFlg    PackedVib      \n",
      "0               0           0            0     \n",
      "1               9          10           11     \n",
      "2              18          20           22     \n",
      "3              27          30           33     \n",
      "4              36          40           44     \n",
      "...           ...         ...          ... ..  \n",
      "4136            0           0            0     \n",
      "4137            0           0            0     \n",
      "4138            0           0            0     \n",
      "4139            0           0            0     \n",
      "4140            0           0            0     \n",
      "\n",
      "[4141 rows x 19 columns]\n"
     ]
    }
   ],
   "source": [
    "# To Do: Convert NaN's to something else, because NaN's are being noticed as strings. \n",
    "# Use replace() or something similar\n",
    "\n",
    "# Dropping all NA's in the DF\n",
    "df2 = df.dropna()\n",
    "print(df2)"
   ]
  },
  {
   "cell_type": "code",
   "execution_count": 54,
   "id": "respective-fleet",
   "metadata": {},
   "outputs": [
    {
     "data": {
      "text/plain": [
       "#Recorded                                     37\n",
       "            Date-Time       2021/01/21 09:58:42 \n",
       "    CRC                                     3379\n",
       " objectId                                      3\n",
       "  jobID                                        0\n",
       " runNum                                        0\n",
       " dataLen                                      25\n",
       "     XYVibe                                 NaN \n",
       "     XYPeak                                 NaN \n",
       " XYShock                                   65535\n",
       "       ZVib                                 NaN \n",
       "      ZPeak                                 NaN \n",
       " ZShock                                    65535\n",
       " ZVibeFlg                                    255\n",
       " ZShkFlg                                     255\n",
       " XYVibeFlg                                   255\n",
       " XYShkFlg                                    255\n",
       " PackedVib                                   255\n",
       "                                                \n",
       "Name: 37, dtype: object"
      ]
     },
     "execution_count": 54,
     "metadata": {},
     "output_type": "execute_result"
    }
   ],
   "source": [
    "df2.iloc[37]"
   ]
  },
  {
   "cell_type": "code",
   "execution_count": null,
   "id": "harmful-animation",
   "metadata": {},
   "outputs": [],
   "source": []
  }
 ],
 "metadata": {
  "kernelspec": {
   "display_name": "Python 3",
   "language": "python",
   "name": "python3"
  },
  "language_info": {
   "codemirror_mode": {
    "name": "ipython",
    "version": 3
   },
   "file_extension": ".py",
   "mimetype": "text/x-python",
   "name": "python",
   "nbconvert_exporter": "python",
   "pygments_lexer": "ipython3",
   "version": "3.9.1"
  }
 },
 "nbformat": 4,
 "nbformat_minor": 5
}
