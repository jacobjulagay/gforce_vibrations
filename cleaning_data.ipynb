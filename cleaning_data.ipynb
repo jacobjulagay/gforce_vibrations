{
 "cells": [
  {
   "cell_type": "code",
   "execution_count": 106,
   "id": "fuzzy-oriental",
   "metadata": {},
   "outputs": [],
   "source": [
    "import pandas as pd"
   ]
  },
  {
   "cell_type": "code",
   "execution_count": 124,
   "id": "bacterial-matthew",
   "metadata": {},
   "outputs": [
    {
     "name": "stdout",
     "output_type": "stream",
     "text": [
      "#Recorded     0\n",
      "Date-Time     0\n",
      "CRC           0\n",
      "objectId      0\n",
      "jobID         0\n",
      "runNum        0\n",
      "dataLen       0\n",
      "XYVibe       58\n",
      "XYPeak       58\n",
      "XYShock       0\n",
      "ZVib         60\n",
      "ZPeak        60\n",
      "ZShock        0\n",
      "ZVibeFlg      0\n",
      "ZShkFlg       0\n",
      "XYVibeFlg     0\n",
      "XYShkFlg      0\n",
      "PackedVib     0\n",
      "dtype: int64\n",
      "<class 'pandas.core.frame.DataFrame'>\n",
      "RangeIndex: 4141 entries, 0 to 4140\n",
      "Data columns (total 18 columns):\n",
      " #   Column     Non-Null Count  Dtype  \n",
      "---  ------     --------------  -----  \n",
      " 0   #Recorded  4141 non-null   int64  \n",
      " 1   Date-Time  4141 non-null   object \n",
      " 2   CRC        4141 non-null   int64  \n",
      " 3   objectId   4141 non-null   int64  \n",
      " 4   jobID      4141 non-null   int64  \n",
      " 5   runNum     4141 non-null   int64  \n",
      " 6   dataLen    4141 non-null   int64  \n",
      " 7   XYVibe     4083 non-null   float64\n",
      " 8   XYPeak     4083 non-null   float64\n",
      " 9   XYShock    4141 non-null   int64  \n",
      " 10  ZVib       4081 non-null   float64\n",
      " 11  ZPeak      4081 non-null   float64\n",
      " 12  ZShock     4141 non-null   int64  \n",
      " 13  ZVibeFlg   4141 non-null   int64  \n",
      " 14  ZShkFlg    4141 non-null   int64  \n",
      " 15  XYVibeFlg  4141 non-null   int64  \n",
      " 16  XYShkFlg   4141 non-null   int64  \n",
      " 17  PackedVib  4141 non-null   int64  \n",
      "dtypes: float64(4), int64(13), object(1)\n",
      "memory usage: 582.5+ KB\n"
     ]
    }
   ],
   "source": [
    "# Read in csv file. \n",
    "# using sep because of whitespace in column names, Skipping first 6 rows\n",
    "df = pd.read_csv(\"2021_01_22_202641_PowerMaster_ShockVibe.csv\",sep=r'\\s*,\\s*', engine='python',skiprows = 6)\n",
    "\n",
    "#Removing last column because it has NA values\n",
    "df.drop(df.columns[[-1,]], axis=1, inplace=True)\n",
    "print(df.isnull().sum())\n",
    "df.info()"
   ]
  },
  {
   "cell_type": "code",
   "execution_count": 125,
   "id": "encouraging-texas",
   "metadata": {},
   "outputs": [
    {
     "name": "stdout",
     "output_type": "stream",
     "text": [
      "      #Recorded            Date-Time    CRC  objectId  jobID  runNum  dataLen  \\\n",
      "0             0  1970/01/01 00:04:48  39319         3      0       0       25   \n",
      "1             1  1970/01/01 00:04:48   2474         3      0       0       25   \n",
      "2             2  1970/01/01 00:04:48  22755         3      0       0       25   \n",
      "3             3  1970/01/01 00:04:48  58766         3      0       0       25   \n",
      "4             4  1970/01/01 00:04:48  12824         3      0       0       25   \n",
      "...         ...                  ...    ...       ...    ...     ...      ...   \n",
      "4136       4136  2021/01/22 20:21:36  26031         3      0       0       25   \n",
      "4137       4137  2021/01/22 20:22:06  15005         3      0       0       25   \n",
      "4138       4138  2021/01/22 20:22:36   4507         3      0       0       25   \n",
      "4139       4139  2021/01/22 20:23:06  10277         3      0       0       25   \n",
      "4140       4140  2021/01/22 20:26:18  56322         3      0       0       25   \n",
      "\n",
      "        XYVibe    XYPeak  XYShock       ZVib      ZPeak  ZShock  ZVibeFlg  \\\n",
      "0     0.000000  0.000000        0   0.000000   0.000000       0         0   \n",
      "1     1.000000  2.000000        3   4.000000   5.000000       6         7   \n",
      "2     2.000000  4.000000        6   8.000000  10.000000      12        14   \n",
      "3     3.000000  6.000000        9  12.000000  15.000000      18        21   \n",
      "4     4.000000  8.000000       12  16.000000  20.000000      24        28   \n",
      "...        ...       ...      ...        ...        ...     ...       ...   \n",
      "4136  0.614147  2.615385        0   0.578815   1.769231       0         0   \n",
      "4137  0.611837  2.576923        0   0.585641   2.576923       0         0   \n",
      "4138  0.620897  1.576923        0   0.581294   1.961539       0         0   \n",
      "4139  0.618992  3.000000        0   0.599821   3.038462       0         0   \n",
      "4140  1.999807  3.500000        0   1.904512   2.500000       0         0   \n",
      "\n",
      "      ZShkFlg  XYVibeFlg  XYShkFlg  PackedVib  \n",
      "0           0          0         0          0  \n",
      "1           8          9        10         11  \n",
      "2          16         18        20         22  \n",
      "3          24         27        30         33  \n",
      "4          32         36        40         44  \n",
      "...       ...        ...       ...        ...  \n",
      "4136        0          0         0          0  \n",
      "4137        0          0         0          0  \n",
      "4138        0          0         0          0  \n",
      "4139        0          0         0          0  \n",
      "4140        0          0         0          0  \n",
      "\n",
      "[4081 rows x 18 columns]\n",
      "<class 'pandas.core.frame.DataFrame'>\n",
      "Int64Index: 4081 entries, 0 to 4140\n",
      "Data columns (total 18 columns):\n",
      " #   Column     Non-Null Count  Dtype  \n",
      "---  ------     --------------  -----  \n",
      " 0   #Recorded  4081 non-null   int64  \n",
      " 1   Date-Time  4081 non-null   object \n",
      " 2   CRC        4081 non-null   int64  \n",
      " 3   objectId   4081 non-null   int64  \n",
      " 4   jobID      4081 non-null   int64  \n",
      " 5   runNum     4081 non-null   int64  \n",
      " 6   dataLen    4081 non-null   int64  \n",
      " 7   XYVibe     4081 non-null   float64\n",
      " 8   XYPeak     4081 non-null   float64\n",
      " 9   XYShock    4081 non-null   int64  \n",
      " 10  ZVib       4081 non-null   float64\n",
      " 11  ZPeak      4081 non-null   float64\n",
      " 12  ZShock     4081 non-null   int64  \n",
      " 13  ZVibeFlg   4081 non-null   int64  \n",
      " 14  ZShkFlg    4081 non-null   int64  \n",
      " 15  XYVibeFlg  4081 non-null   int64  \n",
      " 16  XYShkFlg   4081 non-null   int64  \n",
      " 17  PackedVib  4081 non-null   int64  \n",
      "dtypes: float64(4), int64(13), object(1)\n",
      "memory usage: 605.8+ KB\n"
     ]
    }
   ],
   "source": [
    "# To Do: remove NaN's\n",
    "df.dropna(inplace=True)\n",
    "\n",
    "print(df)\n",
    "df.info()"
   ]
  },
  {
   "cell_type": "code",
   "execution_count": 120,
   "id": "broken-snowboard",
   "metadata": {},
   "outputs": [
    {
     "data": {
      "text/plain": [
       "#Recorded    0\n",
       "Date-Time    0\n",
       "CRC          0\n",
       "objectId     0\n",
       "jobID        0\n",
       "runNum       0\n",
       "dataLen      0\n",
       "XYVibe       0\n",
       "XYPeak       0\n",
       "XYShock      0\n",
       "ZVib         0\n",
       "ZPeak        0\n",
       "ZShock       0\n",
       "ZVibeFlg     0\n",
       "ZShkFlg      0\n",
       "XYVibeFlg    0\n",
       "XYShkFlg     0\n",
       "PackedVib    0\n",
       "dtype: int64"
      ]
     },
     "execution_count": 120,
     "metadata": {},
     "output_type": "execute_result"
    }
   ],
   "source": [
    "#Checking if all NaN's are removed. \n",
    "df.isnull().sum()"
   ]
  },
  {
   "cell_type": "code",
   "execution_count": 4,
   "id": "aquatic-murder",
   "metadata": {},
   "outputs": [],
   "source": [
    "# To do: Convert string input from user to date time\n",
    "# To do: split date-time column into 2 separate columns\n",
    "# To do: Loop until the end, maybe there's a datetime formula for traversing."
   ]
  }
 ],
 "metadata": {
  "kernelspec": {
   "display_name": "Python 3",
   "language": "python",
   "name": "python3"
  },
  "language_info": {
   "codemirror_mode": {
    "name": "ipython",
    "version": 3
   },
   "file_extension": ".py",
   "mimetype": "text/x-python",
   "name": "python",
   "nbconvert_exporter": "python",
   "pygments_lexer": "ipython3",
   "version": "3.9.1"
  }
 },
 "nbformat": 4,
 "nbformat_minor": 5
}
