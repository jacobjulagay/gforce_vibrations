{
 "cells": [
  {
   "cell_type": "code",
   "execution_count": 207,
   "id": "binary-demonstration",
   "metadata": {},
   "outputs": [],
   "source": [
    "import pandas as pd\n",
    "import matplotlib.pyplot as plt\n",
    "import numpy as np"
   ]
  },
  {
   "cell_type": "code",
   "execution_count": 208,
   "id": "romantic-plant",
   "metadata": {},
   "outputs": [
    {
     "name": "stdout",
     "output_type": "stream",
     "text": [
      "#Recorded     0\n",
      "Date-Time     0\n",
      "CRC           0\n",
      "objectId      0\n",
      "jobID         0\n",
      "runNum        0\n",
      "dataLen       0\n",
      "XYVibe       58\n",
      "XYPeak       58\n",
      "XYShock       0\n",
      "ZVib         60\n",
      "ZPeak        60\n",
      "ZShock        0\n",
      "ZVibeFlg      0\n",
      "ZShkFlg       0\n",
      "XYVibeFlg     0\n",
      "XYShkFlg      0\n",
      "PackedVib     0\n",
      "dtype: int64\n",
      "<class 'pandas.core.frame.DataFrame'>\n",
      "RangeIndex: 4141 entries, 0 to 4140\n",
      "Data columns (total 18 columns):\n",
      " #   Column     Non-Null Count  Dtype  \n",
      "---  ------     --------------  -----  \n",
      " 0   #Recorded  4141 non-null   int64  \n",
      " 1   Date-Time  4141 non-null   object \n",
      " 2   CRC        4141 non-null   int64  \n",
      " 3   objectId   4141 non-null   int64  \n",
      " 4   jobID      4141 non-null   int64  \n",
      " 5   runNum     4141 non-null   int64  \n",
      " 6   dataLen    4141 non-null   int64  \n",
      " 7   XYVibe     4083 non-null   float64\n",
      " 8   XYPeak     4083 non-null   float64\n",
      " 9   XYShock    4141 non-null   int64  \n",
      " 10  ZVib       4081 non-null   float64\n",
      " 11  ZPeak      4081 non-null   float64\n",
      " 12  ZShock     4141 non-null   int64  \n",
      " 13  ZVibeFlg   4141 non-null   int64  \n",
      " 14  ZShkFlg    4141 non-null   int64  \n",
      " 15  XYVibeFlg  4141 non-null   int64  \n",
      " 16  XYShkFlg   4141 non-null   int64  \n",
      " 17  PackedVib  4141 non-null   int64  \n",
      "dtypes: float64(4), int64(13), object(1)\n",
      "memory usage: 582.5+ KB\n"
     ]
    }
   ],
   "source": [
    "# Read in csv file. \n",
    "# using sep because of whitespace in column names, Skipping first 6 rows\n",
    "df = pd.read_csv(\"2021_01_22_202641_PowerMaster_ShockVibe.csv\",sep=r'\\s*,\\s*', engine='python',skiprows = 6)\n",
    "\n",
    "#Removing last column because it has NA values\n",
    "df.drop(df.columns[[-1,]], axis=1, inplace=True)\n",
    "print(df.isnull().sum())\n",
    "df.info()"
   ]
  },
  {
   "cell_type": "code",
   "execution_count": 209,
   "id": "abroad-regular",
   "metadata": {},
   "outputs": [
    {
     "name": "stdout",
     "output_type": "stream",
     "text": [
      "      #Recorded            Date-Time    CRC  objectId  jobID  runNum  dataLen  \\\n",
      "0             0  1970/01/01 00:04:48  39319         3      0       0       25   \n",
      "1             1  1970/01/01 00:04:48   2474         3      0       0       25   \n",
      "2             2  1970/01/01 00:04:48  22755         3      0       0       25   \n",
      "3             3  1970/01/01 00:04:48  58766         3      0       0       25   \n",
      "4             4  1970/01/01 00:04:48  12824         3      0       0       25   \n",
      "...         ...                  ...    ...       ...    ...     ...      ...   \n",
      "4136       4136  2021/01/22 20:21:36  26031         3      0       0       25   \n",
      "4137       4137  2021/01/22 20:22:06  15005         3      0       0       25   \n",
      "4138       4138  2021/01/22 20:22:36   4507         3      0       0       25   \n",
      "4139       4139  2021/01/22 20:23:06  10277         3      0       0       25   \n",
      "4140       4140  2021/01/22 20:26:18  56322         3      0       0       25   \n",
      "\n",
      "        XYVibe    XYPeak  XYShock       ZVib      ZPeak  ZShock  ZVibeFlg  \\\n",
      "0     0.000000  0.000000        0   0.000000   0.000000       0         0   \n",
      "1     1.000000  2.000000        3   4.000000   5.000000       6         7   \n",
      "2     2.000000  4.000000        6   8.000000  10.000000      12        14   \n",
      "3     3.000000  6.000000        9  12.000000  15.000000      18        21   \n",
      "4     4.000000  8.000000       12  16.000000  20.000000      24        28   \n",
      "...        ...       ...      ...        ...        ...     ...       ...   \n",
      "4136  0.614147  2.615385        0   0.578815   1.769231       0         0   \n",
      "4137  0.611837  2.576923        0   0.585641   2.576923       0         0   \n",
      "4138  0.620897  1.576923        0   0.581294   1.961539       0         0   \n",
      "4139  0.618992  3.000000        0   0.599821   3.038462       0         0   \n",
      "4140  1.999807  3.500000        0   1.904512   2.500000       0         0   \n",
      "\n",
      "      ZShkFlg  XYVibeFlg  XYShkFlg  PackedVib  \n",
      "0           0          0         0          0  \n",
      "1           8          9        10         11  \n",
      "2          16         18        20         22  \n",
      "3          24         27        30         33  \n",
      "4          32         36        40         44  \n",
      "...       ...        ...       ...        ...  \n",
      "4136        0          0         0          0  \n",
      "4137        0          0         0          0  \n",
      "4138        0          0         0          0  \n",
      "4139        0          0         0          0  \n",
      "4140        0          0         0          0  \n",
      "\n",
      "[4081 rows x 18 columns]\n",
      "<class 'pandas.core.frame.DataFrame'>\n",
      "Int64Index: 4081 entries, 0 to 4140\n",
      "Data columns (total 18 columns):\n",
      " #   Column     Non-Null Count  Dtype  \n",
      "---  ------     --------------  -----  \n",
      " 0   #Recorded  4081 non-null   int64  \n",
      " 1   Date-Time  4081 non-null   object \n",
      " 2   CRC        4081 non-null   int64  \n",
      " 3   objectId   4081 non-null   int64  \n",
      " 4   jobID      4081 non-null   int64  \n",
      " 5   runNum     4081 non-null   int64  \n",
      " 6   dataLen    4081 non-null   int64  \n",
      " 7   XYVibe     4081 non-null   float64\n",
      " 8   XYPeak     4081 non-null   float64\n",
      " 9   XYShock    4081 non-null   int64  \n",
      " 10  ZVib       4081 non-null   float64\n",
      " 11  ZPeak      4081 non-null   float64\n",
      " 12  ZShock     4081 non-null   int64  \n",
      " 13  ZVibeFlg   4081 non-null   int64  \n",
      " 14  ZShkFlg    4081 non-null   int64  \n",
      " 15  XYVibeFlg  4081 non-null   int64  \n",
      " 16  XYShkFlg   4081 non-null   int64  \n",
      " 17  PackedVib  4081 non-null   int64  \n",
      "dtypes: float64(4), int64(13), object(1)\n",
      "memory usage: 605.8+ KB\n"
     ]
    }
   ],
   "source": [
    "# To Do: remove NaN's\n",
    "df.dropna(inplace=True)\n",
    "\n",
    "print(df)\n",
    "df.info()"
   ]
  },
  {
   "cell_type": "code",
   "execution_count": 210,
   "id": "upset-enough",
   "metadata": {},
   "outputs": [
    {
     "data": {
      "text/plain": [
       "0       1970/01/01 00:04:48\n",
       "1       1970/01/01 00:04:48\n",
       "2       1970/01/01 00:04:48\n",
       "3       1970/01/01 00:04:48\n",
       "4       1970/01/01 00:04:48\n",
       "               ...         \n",
       "4136    2021/01/22 20:21:36\n",
       "4137    2021/01/22 20:22:06\n",
       "4138    2021/01/22 20:22:36\n",
       "4139    2021/01/22 20:23:06\n",
       "4140    2021/01/22 20:26:18\n",
       "Name: Date-Time, Length: 4081, dtype: object"
      ]
     },
     "execution_count": 210,
     "metadata": {},
     "output_type": "execute_result"
    }
   ],
   "source": [
    "#Checking if all NaN's are removed. \n",
    "df.isnull().sum()\n",
    "df['Date-Time']"
   ]
  },
  {
   "cell_type": "code",
   "execution_count": 211,
   "id": "artificial-deviation",
   "metadata": {},
   "outputs": [],
   "source": [
    "# Converting 'Date-Time' Col to a datetime object. \n",
    "df['Date-Time'] = pd.to_datetime(df['Date-Time'], format = \"%Y/%m/%d %H:%M:%S\")\n"
   ]
  },
  {
   "cell_type": "code",
   "execution_count": 212,
   "id": "rubber-healthcare",
   "metadata": {},
   "outputs": [],
   "source": [
    "# Set date-time as index - this is to make it easier to .loc or .iloc\n",
    "df = df.set_index(['Date-Time'])\n"
   ]
  },
  {
   "cell_type": "code",
   "execution_count": 216,
   "id": "norman-large",
   "metadata": {},
   "outputs": [
    {
     "name": "stdout",
     "output_type": "stream",
     "text": [
      "[0.7360257 0.734207  0.7299864 0.7281172 0.7285073 0.7290444 0.7281373\n",
      " 0.7391071 0.7216304 0.7181147 0.7232201 0.7144473 0.7161593 0.716893\n",
      " 0.7171137 0.7156371 0.7160633 0.7150729 0.7151142 0.7178897 0.7152969\n",
      " 0.7209173 0.720996  0.7292974 0.7155564 0.7290498 0.7210698 0.7273653\n",
      " 0.7240004 0.722676  0.7225519]\n"
     ]
    }
   ],
   "source": [
    "# Ex. of gettinng between date and time\n",
    "#df.loc['2021/01/21 09:45:43' : '2021/01/21 09:50:12']\n",
    "start_time = '9:44:00'\n",
    "end_time = '10:00:00'\n",
    "start_date = '2021/01/21'\n",
    "end_date = '2021/01/21'\n",
    "\n",
    "df.between_time(start_time,end_time)\n",
    "\n",
    "# Have to use sort_index() b/c if not, then it raises an error about future deprecation\n",
    "time_chosen_df = df.sort_index().loc[start_date:end_date].between_time(start_time,end_time)\n",
    "xyvibe = time_chosen_df['XYVibe'].values\n",
    "zvib = time_chosen_df['ZVib'].values\n"
   ]
  },
  {
   "cell_type": "code",
   "execution_count": 221,
   "id": "coated-scanner",
   "metadata": {},
   "outputs": [
    {
     "data": {
      "image/png": "[encoded data removed]",
      "text/plain": [
       "<Figure size 432x288 with 1 Axes>"
      ]
     },
     "metadata": {
      "needs_background": "light"
     },
     "output_type": "display_data"
    }
   ],
   "source": [
    "# matplotlib graphing\n",
    "%matplotlib inline\n",
    "\n",
    "# 150 is maximum amount of minutes needed within the time period.\n",
    "\n",
    "# Graph attributes\n",
    "x_ticks = np.arange(0,151,20)\n",
    "plt.xticks(x_ticks)\n",
    "plt.title('Shock/Vibe Graph')\n",
    "plt.xlabel('Time (minutes)')\n",
    "plt.ylabel('Vibrations Shock (G)')\n",
    "plt.grid(True)\n",
    "\n",
    "# XYVibe\n",
    "plt.plot(xyvibe,'bo--', label='XYVibe')\n",
    "\n",
    "# Zvib\n",
    "plt.plot(zvib,'go--',label='Zvib')\n",
    "\n",
    "plt.legend()\n",
    "plt.show()"
   ]
  },
  {
   "cell_type": "code",
   "execution_count": 196,
   "id": "subtle-entry",
   "metadata": {},
   "outputs": [],
   "source": [
    "# To do: Convert string input from user to date time\n"
   ]
  },
  {
   "cell_type": "code",
   "execution_count": null,
   "id": "typical-pledge",
   "metadata": {},
   "outputs": [],
   "source": []
  }
 ],
 "metadata": {
  "kernelspec": {
   "display_name": "Python 3",
   "language": "python",
   "name": "python3"
  },
  "language_info": {
   "codemirror_mode": {
    "name": "ipython",
    "version": 3
   },
   "file_extension": ".py",
   "mimetype": "text/x-python",
   "name": "python",
   "nbconvert_exporter": "python",
   "pygments_lexer": "ipython3",
   "version": "3.9.1"
  }
 },
 "nbformat": 4,
 "nbformat_minor": 5
}
